{
 "cells": [
  {
   "cell_type": "code",
   "execution_count": 1,
   "metadata": {},
   "outputs": [
    {
     "name": "stdout",
     "output_type": "stream",
     "text": [
      "+----------+-------------+--------+--------+\n",
      "|   Number |   Frequency |    PMF |    CDF |\n",
      "+==========+=============+========+========+\n",
      "|        1 |        2985 | 0.2985 | 0.2985 |\n",
      "+----------+-------------+--------+--------+\n",
      "|        2 |        1765 | 0.1765 | 0.475  |\n",
      "+----------+-------------+--------+--------+\n",
      "|        3 |        1273 | 0.1273 | 0.6023 |\n",
      "+----------+-------------+--------+--------+\n",
      "|        4 |         944 | 0.0944 | 0.6967 |\n",
      "+----------+-------------+--------+--------+\n",
      "|        5 |         793 | 0.0793 | 0.776  |\n",
      "+----------+-------------+--------+--------+\n",
      "|        6 |         637 | 0.0637 | 0.8397 |\n",
      "+----------+-------------+--------+--------+\n",
      "|        7 |         592 | 0.0592 | 0.8989 |\n",
      "+----------+-------------+--------+--------+\n",
      "|        8 |         517 | 0.0517 | 0.9506 |\n",
      "+----------+-------------+--------+--------+\n",
      "|        9 |         494 | 0.0494 | 1      |\n",
      "+----------+-------------+--------+--------+\n"
     ]
    }
   ],
   "source": [
    "#Q1#\n",
    "\n",
    "\n",
    "from pprint import pprint\n",
    "from tabulate import tabulate\n",
    "\n",
    "def getNumbers(filename = \"C:/Users/ajite/Downloads/Numbers.txt\"):\n",
    "    arr = []\n",
    "    with open(filename) as fp:\n",
    "        for i, line in enumerate(fp):\n",
    "            arr.append(int(line))\n",
    "    return arr\n",
    "\n",
    "numbers = getNumbers()\n",
    "TOTAL_NUMBERS = len(numbers)\n",
    "numFreq = []\n",
    "for num in range(1,10):\n",
    "    fr = numbers.count(num)\n",
    "    cdf = 0\n",
    "    for row in numFreq:\n",
    "        cdf += row[2]\n",
    "    pmf = float(fr/TOTAL_NUMBERS)\n",
    "    numFreq.append([num, fr,pmf , cdf+pmf])\n",
    "\n",
    "print(tabulate(numFreq, [\"Number\", \"Frequency\", \"PMF\", \"CDF\"],tablefmt=\"grid\"))"
   ]
  },
  {
   "cell_type": "code",
   "execution_count": 2,
   "metadata": {},
   "outputs": [
    {
     "name": "stdout",
     "output_type": "stream",
     "text": [
      "array([(1, 0.2985), (2, 0.1765), (3, 0.1273), (4, 0.0944), (5, 0.0793),\n",
      "       (6, 0.0637), (7, 0.0592), (8, 0.0517), (9, 0.0494)],\n",
      "      dtype=[('Number', '<i4'), ('Probablity', '<f8')])\n",
      "Plotting\n"
     ]
    },
    {
     "data": {
      "image/png": "[encoded data removed]",
      "text/plain": [
       "<Figure size 432x288 with 1 Axes>"
      ]
     },
     "metadata": {},
     "output_type": "display_data"
    }
   ],
   "source": [
    "#Q2#\n",
    "import numpy as np\n",
    "import matplotlib.pyplot as plt\n",
    "from pprint import pprint\n",
    "\n",
    "#\n",
    "# @dev Load Up Data\n",
    "#\n",
    "\n",
    "freqTable = []\n",
    "numbers = []\n",
    "with open(\"Numbers.txt\") as fp:\n",
    "    for i, line in enumerate(fp):\n",
    "        numbers.append(int(line))\n",
    "\n",
    "TOTAL_NUMBERS = len(numbers)\n",
    "\n",
    "#\n",
    "# @dev Calculate Probablities\n",
    "#\n",
    "\n",
    "for num in range(1,10):\n",
    "    fr = numbers.count(num)\n",
    "    prob = float(fr/TOTAL_NUMBERS)\n",
    "    freqTable.append((num, prob))\n",
    "\n",
    "#\n",
    "# @dev Plot Graph\n",
    "#\n",
    "\n",
    "dtype = [('Number', int), ('Probablity', float)]\n",
    "npdata = np.array(freqTable, dtype=dtype)\n",
    "\n",
    "sorted_data = np.sort(npdata, order='Probablity')[::-1]\n",
    "\n",
    "pprint(sorted_data)\n",
    "print(\"Plotting\")\n",
    "\n",
    "bar_labels = []\n",
    "bar_heights = []\n",
    "for names, values in sorted_data:\n",
    "    bar_labels.append(str(names))\n",
    "    bar_heights.append(values)\n",
    "\n",
    "bar_x_positions  = [0,1,2,3,4, 5, 6, 7, 8]\n",
    "plt.title('Probabilities')\n",
    "plt.bar(bar_x_positions, bar_heights,  width = 1)\n",
    "plt.xticks(bar_x_positions, bar_labels)\n",
    "plt.show()"
   ]
  },
  {
   "cell_type": "code",
   "execution_count": 4,
   "metadata": {},
   "outputs": [
    {
     "name": "stdout",
     "output_type": "stream",
     "text": [
      "array([(1, 2985), (2, 1765), (3, 1273), (4,  944), (5,  793), (6,  637),\n",
      "       (7,  592), (8,  517), (9,  494)],\n",
      "      dtype=[('Number', '<i4'), ('Frequency', '<i4')])\n",
      "Plotting\n"
     ]
    },
    {
     "data": {
      "image/png": "[encoded data removed]",
      "text/plain": [
       "<Figure size 432x288 with 1 Axes>"
      ]
     },
     "metadata": {},
     "output_type": "display_data"
    }
   ],
   "source": [
    "#Q3\n",
    "import numpy as np\n",
    "import matplotlib.pyplot as plt\n",
    "from pprint import pprint\n",
    "\n",
    "#\n",
    "# @dev Load Up Data\n",
    "#\n",
    "\n",
    "freqTable = []\n",
    "numbers = []\n",
    "with open(\"Numbers.txt\") as fp:\n",
    "    for i, line in enumerate(fp):\n",
    "        numbers.append(int(line))\n",
    "\n",
    "TOTAL_NUMBERS = len(numbers)\n",
    "\n",
    "#\n",
    "# @dev Calculate Probablities\n",
    "#\n",
    "\n",
    "for num in range(1,10):\n",
    "    fr = numbers.count(num)\n",
    "    freqTable.append((num, fr))\n",
    "\n",
    "#\n",
    "# @dev Plot Graph\n",
    "#\n",
    "\n",
    "dtype = [('Number', int), ('Frequency', int)]\n",
    "npdata = np.array(freqTable, dtype=dtype)\n",
    "\n",
    "sorted_data = np.sort(npdata, order='Frequency')[::-1]\n",
    "\n",
    "pprint(sorted_data)\n",
    "print(\"Plotting\")\n",
    "\n",
    "bar_labels = []\n",
    "bar_heights = []\n",
    "for names, values in sorted_data:\n",
    "    bar_labels.append(str(names))\n",
    "    bar_heights.append(values)\n",
    "\n",
    "bar_x_positions  = [0,1,2,3,4, 5, 6, 7, 8]\n",
    "plt.title('Histogram Plot')\n",
    "plt.bar(bar_x_positions, bar_heights,  width = 1)\n",
    "plt.xticks(bar_x_positions, bar_labels)\n",
    "plt.show()\n"
   ]
  },
  {
   "cell_type": "code",
   "execution_count": 5,
   "metadata": {},
   "outputs": [
    {
     "name": "stdout",
     "output_type": "stream",
     "text": [
      "Q1:\n",
      "2.3170690580135184e-05\n",
      "Q2:\n",
      "0.9982411791385148\n",
      "Q3:\n",
      "0.028404716122262287\n"
     ]
    }
   ],
   "source": [
    "#Q4\n",
    "from math import factorial as fact\n",
    "def nCr(n , r):\n",
    "    if (r==0):\n",
    "        return 1\n",
    "    if (r==1):\n",
    "        return n\n",
    "    return float(fact(n) / (fact(r)*fact(n-r)))\n",
    "\n",
    "TOTAL_TOSSES = 100\n",
    "TOTAL_CASES = 2 ** TOTAL_TOSSES\n",
    "\n",
    "print(\"Q1:\")\n",
    "print(float(nCr(TOTAL_TOSSES, 30) * ((1/2)**TOTAL_TOSSES)))\n",
    "\n",
    "print(\"Q2:\")\n",
    "probSum = 1\n",
    "for i in range(1, 36):\n",
    "    probSum -= (nCr(TOTAL_TOSSES, i) * ((1/2)**TOTAL_TOSSES))\n",
    "print(probSum)\n",
    "\n",
    "print(\"Q3:\")\n",
    "probSum = 1\n",
    "for i in range(1, 60):\n",
    "    probSum -= (nCr(TOTAL_TOSSES, i) * ((1/2)**TOTAL_TOSSES))\n",
    "for i in range(70, TOTAL_TOSSES):\n",
    "    probSum -= (nCr(TOTAL_TOSSES, i) * ((1/2)**TOTAL_TOSSES))\n",
    "\n",
    "print(probSum)\n"
   ]
  },
  {
   "cell_type": "code",
   "execution_count": null,
   "metadata": {},
   "outputs": [],
   "source": []
  }
 ],
 "metadata": {
  "kernelspec": {
   "display_name": "Python 3",
   "language": "python",
   "name": "python3"
  },
  "language_info": {
   "codemirror_mode": {
    "name": "ipython",
    "version": 3
   },
   "file_extension": ".py",
   "mimetype": "text/x-python",
   "name": "python",
   "nbconvert_exporter": "python",
   "pygments_lexer": "ipython3",
   "version": "3.6.5"
  }
 },
 "nbformat": 4,
 "nbformat_minor": 2
}
